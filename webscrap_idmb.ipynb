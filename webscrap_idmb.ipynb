{
  "nbformat": 4,
  "nbformat_minor": 0,
  "metadata": {
    "colab": {
      "provenance": [],
      "authorship_tag": "ABX9TyMFqOI/FdXgzq2o4BNE5nLl",
      "include_colab_link": true
    },
    "kernelspec": {
      "name": "python3",
      "display_name": "Python 3"
    },
    "language_info": {
      "name": "python"
    }
  },
  "cells": [
    {
      "cell_type": "markdown",
      "metadata": {
        "id": "view-in-github",
        "colab_type": "text"
      },
      "source": [
        "<a href=\"https://colab.research.google.com/github/masnaashraf/Webscrapping-Project/blob/main/webscrap_idmb.ipynb\" target=\"_parent\"><img src=\"https://colab.research.google.com/assets/colab-badge.svg\" alt=\"Open In Colab\"/></a>"
      ]
    },
    {
      "cell_type": "code",
      "execution_count": null,
      "metadata": {
        "id": "yflMiHZRKNT-"
      },
      "outputs": [],
      "source": [
        "#importing libraries\n",
        "\n",
        "import requests\n",
        "from bs4 import BeautifulSoup\n",
        "import numpy as np\n",
        "import openpyxl\n"
      ]
    },
    {
      "cell_type": "code",
      "source": [],
      "metadata": {
        "id": "eKxrdNj7qZ-P"
      },
      "execution_count": null,
      "outputs": []
    },
    {
      "cell_type": "code",
      "source": [
        "#creating an excel workbook with sheet name as Top Rated Movies\n",
        "excel=openpyxl.Workbook()\n",
        "#print(excel.sheetnames)\n",
        "sheet=excel.active\n",
        "sheet.title=\"Top Rated Movies\"\n",
        "#print(excel.sheetnames)\n",
        "#columns\n",
        "sheet.append([\"Movie Rank\",\"Movie Name\",\"Year Of Release\",\"IMBD Rating\"])"
      ],
      "metadata": {
        "id": "RpmUEAEhnBeH"
      },
      "execution_count": null,
      "outputs": []
    },
    {
      "cell_type": "code",
      "source": [
        "\n",
        "\n",
        "try:\n",
        "\n",
        "  source=requests.get(\"https://www.imdb.com/chart/moviemeter\")\n",
        "  source.raise_for_status()\n",
        "\n",
        "  soup=BeautifulSoup(source.text,\"html.parser\")\n",
        "  #print(soup)\n",
        "\n",
        "#finds the first match where tag=tbody and class =lister-list and from this findall the tr tags.\n",
        "  movies=soup.find(\"tbody\",class_=\"lister-list\").find_all(\"tr\")\n",
        "  \n",
        "#iterating through all tr tags\n",
        "  for movie in movies:\n",
        "\n",
        "#find from tag td class titleColumn find tag a and text of tag a\n",
        "\n",
        "    name=movie.find(\"td\",class_=\"titleColumn\").a.text\n",
        "    #print(name)\n",
        "\n",
        "\n",
        "#finding rank which is inside td tag title class inside which div tag is present \n",
        "\n",
        "    rank=movie.find(\"td\",class_=\"titleColumn\").div.get_text(strip=True).split(\"(\")[0]\n",
        "    #print(rank)\n",
        "    year=movie.find(\"td\",class_=\"titleColumn\").span.text.strip(\"()\")\n",
        "    #print(year)\n",
        "    try:\n",
        "      rating=movie.find(\"td\",class_=\"ratingColumn imdbRating\").strong.text\n",
        "    except:\n",
        "      rating=np.nan\n",
        "    #print(rating)\n",
        "    #print(name,rank,year,rating)\n",
        "    \n",
        "    #appending each value to respective column\n",
        "    sheet.append([rank,name,year,rating])\n",
        "    #break\n",
        "except Exception as e:\n",
        "  print(e)\n",
        "\n",
        "excel.save(\"IMDB Movie Ratings.xlsx\")"
      ],
      "metadata": {
        "id": "CT75yjYzLkJV"
      },
      "execution_count": null,
      "outputs": []
    }
  ]
}